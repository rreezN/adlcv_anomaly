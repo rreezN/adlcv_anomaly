{
 "cells": [
  {
   "cell_type": "code",
   "execution_count": 33,
   "metadata": {},
   "outputs": [],
   "source": [
    "import numpy as np\n",
    "import matplotlib.pyplot as plt\n",
    "import nibabel as nib\n",
    "from glob import glob\n",
    "slice = 5\n",
    "imagenr = '00000'\n",
    "imgs = [nib.load(f\"../data/brats21/BraTS2021_Training_Data/BraTS2021_{imagenr}/BraTS2021_{imagenr}_{m}.nii.gz\").get_fdata().astype(np.float32)[:, :, :] for m in [\"flair\", \"t1\", \"t1ce\", \"t2\"]]\n",
    "lbl = nib.load(f\"../data/brats21/BraTS2021_Training_Data/BraTS2021_{imagenr}/BraTS2021_{imagenr}_seg.nii.gz\").get_fdata().astype(np.uint8)[:, :, :]"
   ]
  },
  {
   "cell_type": "code",
   "execution_count": 36,
   "metadata": {},
   "outputs": [],
   "source": [
    "import numpy as np\n",
    "from mayavi import mlab\n",
    "\n",
    "def plot_3d_slices(slices, labels):\n",
    "    # Create figure\n",
    "    fig = mlab.figure(size=(800, 600))\n",
    "    \n",
    "    # Create 3D binary volume\n",
    "    volume = np.zeros_like(slices)\n",
    "    volume[slices != 0] = 1\n",
    "    \n",
    "    # Plot 3D volume\n",
    "    src = mlab.pipeline.scalar_field(volume)\n",
    "    vol = mlab.pipeline.volume(src, vmin=0, vmax=1)\n",
    "    \n",
    "    # Plot segmentation labels\n",
    "    label_volume = np.zeros_like(labels)\n",
    "    label_volume[labels != 0] = 1\n",
    "    \n",
    "    # Plot 3D volume\n",
    "    src_lab = mlab.pipeline.scalar_field(label_volume)\n",
    "    vol_lab = mlab.pipeline.volume(src_lab, vmin=0, vmax=1, color=(0.2, 0.7, 0.9))    \n",
    "    \n",
    "    # Show slice outlines\n",
    "    outline_lab = mlab.pipeline.outline(src_lab)\n",
    "    outline_lab.actor.property.color = (0, 0, 0)\n",
    "    outline_lab.actor.property.line_width = 2.0\n",
    "    \n",
    "    # Adjust camera position\n",
    "    mlab.view(azimuth=45, elevation=45, distance='auto')\n",
    "\n",
    "    mlab.show()\n",
    "\n",
    "# Example usage\n",
    "# Generate some random binary 2D slices\n",
    "slices = imgs[1] # 10 binary slices of size 240x240\n",
    "labels = lbl\n",
    "\n",
    "# Plot 3D visualization\n",
    "plot_3d_slices(slices, labels)"
   ]
  },
  {
   "cell_type": "code",
   "execution_count": null,
   "metadata": {},
   "outputs": [],
   "source": []
  }
 ],
 "metadata": {
  "kernelspec": {
   "display_name": "adlcv-ex1",
   "language": "python",
   "name": "python3"
  },
  "language_info": {
   "codemirror_mode": {
    "name": "ipython",
    "version": 3
   },
   "file_extension": ".py",
   "mimetype": "text/x-python",
   "name": "python",
   "nbconvert_exporter": "python",
   "pygments_lexer": "ipython3",
   "version": "3.9.7"
  }
 },
 "nbformat": 4,
 "nbformat_minor": 2
}
